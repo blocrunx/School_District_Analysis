{
 "cells": [
  {
   "cell_type": "code",
   "execution_count": null,
   "metadata": {},
   "outputs": [],
   "source": [
    "import pandas as pd\n",
    "import os\n",
    "import pytablewriter\n",
    "from io import StringIO"
   ]
  },
  {
   "cell_type": "code",
   "execution_count": null,
   "metadata": {},
   "outputs": [],
   "source": [
    "def table_converter(resource_folder, csv_file, table_name):\n",
    "    df_to_load = os.path.join(resource_folder,csv_file)\n",
    "    df_to_convert = pd.read_csv(df_to_load)\n",
    "    writer = pytablewriter.MarkdownTableWriter()\n",
    "    writer.table_name = table_name\n",
    "    writer.header_list = list(df_to_convert.columns.values)\n",
    "    writer.value_matrix = df_to_convert.values.tolist()\n",
    "    writer.write_table()"
   ]
  },
  {
   "cell_type": "code",
   "execution_count": null,
   "metadata": {},
   "outputs": [],
   "source": [
    "table_converter(\"Resources\",\"og_ss_df.csv\", \"Origianl School Summary DataFrame:\")"
   ]
  }
 ],
 "metadata": {
  "kernelspec": {
   "display_name": "PythonData",
   "language": "python",
   "name": "pythondata"
  },
  "language_info": {
   "codemirror_mode": {
    "name": "ipython",
    "version": 3
   },
   "file_extension": ".py",
   "mimetype": "text/x-python",
   "name": "python",
   "nbconvert_exporter": "python",
   "pygments_lexer": "ipython3",
   "version": "3.7.6"
  }
 },
 "nbformat": 4,
 "nbformat_minor": 4
}
