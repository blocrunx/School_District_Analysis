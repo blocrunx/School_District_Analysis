{
 "cells": [
  {
   "cell_type": "code",
   "execution_count": null,
   "metadata": {},
   "outputs": [],
   "source": [
    "import pandas as pd\n",
    "import os\n",
    "import pytablewriter\n",
    "from io import StringIO"
   ]
  },
  {
   "cell_type": "code",
   "execution_count": null,
   "metadata": {},
   "outputs": [],
   "source": [
    "#df_to_load = os.path.join(\"Resources\",\"ch_district_summary_df.csv\")\n",
    "#og_to_load = os.path.join(\"Resources\", \"district_summary_df.csv\")\n",
    "#ch_ss_to_load = os.path.join(\"Resources\", \"ch_ss_df.csv\" )\n",
    "#og_ss_to_load = os.path.join(\"Resources\", \"og_ss_df.csv\" )\n",
    "#ch_df = pd.read_csv(df_to_load)\n",
    "#og_df = pd.read_csv(og_to_load)\n",
    "#ch_ss_df =pd.read_csv(ch_ss_to_load)\n",
    "#og_ss_df = pd.read_csv(og_ss_to_load)"
   ]
  },
  {
   "cell_type": "code",
   "execution_count": null,
   "metadata": {},
   "outputs": [],
   "source": [
    "def table_converter(resource_folder, csv_file, table_name):\n",
    "    df_to_load = os.path.join(resource_folder,csv_file)\n",
    "    df_to_convert = pd.read_csv(df_to_load)\n",
    "    writer = pytablewriter.MarkdownTableWriter()\n",
    "    writer.table_name = table_name\n",
    "    writer.header_list = list(df_to_convert.columns.values)\n",
    "    writer.value_matrix = df_to_convert.values.tolist()\n",
    "    writer.write_table()"
   ]
  },
  {
   "cell_type": "code",
   "execution_count": null,
   "metadata": {},
   "outputs": [],
   "source": [
    "table_converter(\"Resources\",\"district_summary_df.csv\", \"Origianl District Summary DataFrame:\")"
   ]
  },
  {
   "cell_type": "code",
   "execution_count": null,
   "metadata": {},
   "outputs": [],
   "source": [
    "table_converter(\"Resources\",\"ch_district_summary_df.csv\", \"Modified District Summary:\" )"
   ]
  },
  {
   "cell_type": "code",
   "execution_count": null,
   "metadata": {},
   "outputs": [],
   "source": [
    "table_converter(\"Resources\", \"og_ss_df.csv\", \"Original School Summary:\")"
   ]
  },
  {
   "cell_type": "code",
   "execution_count": null,
   "metadata": {},
   "outputs": [],
   "source": [
    "table_converter(\"Resources\", \"ch_ss_df.csv\", \"Modified School Summary:\")"
   ]
  },
  {
   "cell_type": "code",
   "execution_count": 26,
   "metadata": {},
   "outputs": [
    {
     "name": "stdout",
     "output_type": "stream",
     "text": [
      "# Original Spending Summary:\n",
      "|Average Math Score|Average Reading Score|% Passing Math|% Passing Reading|% Overall Passing|\n",
      "|-----------------:|--------------------:|-------------:|----------------:|----------------:|\n",
      "|              83.5|                 83.9|            93|               97|               90|\n",
      "|              81.9|                 83.2|            87|               93|               81|\n",
      "|              78.5|                 81.6|            73|               84|               63|\n",
      "|              77.0|                 81.0|            66|               81|               54|\n"
     ]
    }
   ],
   "source": [
    "table_converter(\"Resources\", \"og_spending_df.csv\", \"Original Spending Summary:\")"
   ]
  },
  {
   "cell_type": "code",
   "execution_count": 28,
   "metadata": {},
   "outputs": [
    {
     "name": "stdout",
     "output_type": "stream",
     "text": [
      "# Modified Spending Summary:\n",
      "|Average Math Score|Average Reading Score|% Passing Math|% Passing Reading|% Overall Passing|\n",
      "|-----------------:|--------------------:|-------------:|----------------:|----------------:|\n",
      "|              83.5|                 83.9|            93|               97|               90|\n",
      "|              81.9|                 83.2|            87|               93|               81|\n",
      "|              78.5|                 81.6|            67|               77|               56|\n",
      "|              77.0|                 81.0|            66|               81|               54|\n"
     ]
    }
   ],
   "source": [
    "table_converter(\"Resources\", \"ch_spending_df.csv\", \"Modified Spending Summary:\")"
   ]
  },
  {
   "cell_type": "code",
   "execution_count": 24,
   "metadata": {},
   "outputs": [
    {
     "name": "stdout",
     "output_type": "stream",
     "text": [
      "# Original Size Summary:\n",
      "|Average Math Score|Average Reading Score|% Passing Math|% Passing Reading|% Overall Passing|\n",
      "|-----------------:|--------------------:|-------------:|----------------:|----------------:|\n",
      "|              83.8|                 83.9|            94|               96|               90|\n",
      "|              83.4|                 83.9|            94|               97|               91|\n",
      "|              77.7|                 81.3|            70|               83|               58|\n"
     ]
    }
   ],
   "source": [
    "table_converter(\"Resources\", \"og_size_df.csv\", \"Original Size Summary:\")"
   ]
  },
  {
   "cell_type": "code",
   "execution_count": 25,
   "metadata": {},
   "outputs": [
    {
     "name": "stdout",
     "output_type": "stream",
     "text": [
      "# Modified Size Summary:\n",
      "|Average Math Score|Average Reading Score|% Passing Math|% Passing Reading|% Overall Passing|\n",
      "|-----------------:|--------------------:|-------------:|----------------:|----------------:|\n",
      "|              83.8|                 83.9|            94|               96|               90|\n",
      "|              83.4|                 83.9|            88|               91|               85|\n",
      "|              77.7|                 81.3|            70|               83|               58|\n"
     ]
    }
   ],
   "source": [
    "table_converter(\"Resources\", \"ch_size_df.csv\", \"Modified Size Summary:\")"
   ]
  },
  {
   "cell_type": "code",
   "execution_count": 29,
   "metadata": {},
   "outputs": [
    {
     "name": "stdout",
     "output_type": "stream",
     "text": [
      "# og_type_df.csv\n",
      "|Average Math Score|Average Reading Score|% Passing Math|% Passing Reading|% Overall Passing|\n",
      "|-----------------:|--------------------:|-------------:|----------------:|----------------:|\n",
      "|              83.5|                 83.9|            94|               97|               90|\n",
      "|              77.0|                 81.0|            67|               81|               54|\n"
     ]
    }
   ],
   "source": [
    "table_converter(\"Resources\", \"og_type_df.csv\", \"og_type_df.csv\")"
   ]
  },
  {
   "cell_type": "code",
   "execution_count": 30,
   "metadata": {},
   "outputs": [
    {
     "name": "stdout",
     "output_type": "stream",
     "text": [
      "# ch_type_df.csv\n",
      "|Average Math Score|Average Reading Score|% Passing Math|% Passing Reading|% Overall Passing|\n",
      "|-----------------:|--------------------:|-------------:|----------------:|----------------:|\n",
      "|              83.5|                 83.9|            90|               93|               87|\n",
      "|              77.0|                 81.0|            67|               81|               54|\n"
     ]
    }
   ],
   "source": [
    "table_converter(\"Resources\", \"ch_type_df.csv\", \"ch_type_df.csv\")"
   ]
  },
  {
   "cell_type": "code",
   "execution_count": null,
   "metadata": {},
   "outputs": [],
   "source": []
  }
 ],
 "metadata": {
  "kernelspec": {
   "display_name": "PythonData",
   "language": "python",
   "name": "pythondata"
  },
  "language_info": {
   "codemirror_mode": {
    "name": "ipython",
    "version": 3
   },
   "file_extension": ".py",
   "mimetype": "text/x-python",
   "name": "python",
   "nbconvert_exporter": "python",
   "pygments_lexer": "ipython3",
   "version": "3.7.6"
  }
 },
 "nbformat": 4,
 "nbformat_minor": 4
}
